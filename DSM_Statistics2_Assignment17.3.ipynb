{
 "cells": [
  {
   "cell_type": "code",
   "execution_count": 1,
   "metadata": {},
   "outputs": [],
   "source": [
    "# Problem 1\n",
    "#Two balls are drawn at random in succession without replacement from an urn\n",
    "#containing 4 red balls and 6 black balls.\n",
    "#Find the probabilities of all the possible outcomes."
   ]
  },
  {
   "cell_type": "code",
   "execution_count": 2,
   "metadata": {},
   "outputs": [],
   "source": [
    "# Solution\n",
    "#There are 4 Red Balls and 6 Black Balls\n",
    "#Total no of Balls will be 4 + 6 = 10 Balls\n",
    "\n",
    "#There can be following possible outcome\n",
    "#1. First Ball Red and Second Ball Red\n",
    "#2. First Ball Red and Second Ball Black\n",
    "#3. First Ball Black and Second Ball Black\n",
    "#4. First Ball Black and Second Ball Red\n"
   ]
  },
  {
   "cell_type": "code",
   "execution_count": 3,
   "metadata": {},
   "outputs": [
    {
     "data": {
      "text/plain": [
       "10"
      ]
     },
     "execution_count": 3,
     "metadata": {},
     "output_type": "execute_result"
    }
   ],
   "source": [
    "Red = 4\n",
    "Black = 6\n",
    "Total = Red + Black\n",
    "Total"
   ]
  },
  {
   "cell_type": "code",
   "execution_count": 4,
   "metadata": {},
   "outputs": [
    {
     "data": {
      "text/plain": [
       "0.4"
      ]
     },
     "execution_count": 4,
     "metadata": {},
     "output_type": "execute_result"
    }
   ],
   "source": [
    "# First Ball can be Red or Black Ball\n",
    "# Probability for 1st Ball, if it is Red\n",
    "# If it is Red Ball = 4/10\n",
    "Probability_1stRed_Ball = Red / Total\n",
    "Probability_1stRed_Ball"
   ]
  },
  {
   "cell_type": "code",
   "execution_count": 5,
   "metadata": {},
   "outputs": [
    {
     "data": {
      "text/plain": [
       "0.3333333333333333"
      ]
     },
     "execution_count": 5,
     "metadata": {},
     "output_type": "execute_result"
    }
   ],
   "source": [
    "#Second time it can be Red Ball or Black Ball\n",
    "# if it is Red Ball then probability = 3/9\n",
    "Probability_Second_Red = (Red-1)/(Total-1)\n",
    "Probability_Second_Red"
   ]
  },
  {
   "cell_type": "code",
   "execution_count": 6,
   "metadata": {},
   "outputs": [
    {
     "data": {
      "text/plain": [
       "0.13333333333333333"
      ]
     },
     "execution_count": 6,
     "metadata": {},
     "output_type": "execute_result"
    }
   ],
   "source": [
    "# So Combine Propability for first two Red Ball is\n",
    "RR = Probability_1stRed_Ball * Probability_Second_Red\n",
    "RR"
   ]
  },
  {
   "cell_type": "code",
   "execution_count": 7,
   "metadata": {},
   "outputs": [
    {
     "data": {
      "text/plain": [
       "0.6666666666666666"
      ]
     },
     "execution_count": 7,
     "metadata": {},
     "output_type": "execute_result"
    }
   ],
   "source": [
    "#Second time if it is Black Ball\n",
    "#then probability = 6/9\n",
    "Probability_Second_Black = (Black)/(Total-1)\n",
    "Probability_Second_Black"
   ]
  },
  {
   "cell_type": "code",
   "execution_count": 8,
   "metadata": {},
   "outputs": [
    {
     "data": {
      "text/plain": [
       "0.26666666666666666"
      ]
     },
     "execution_count": 8,
     "metadata": {},
     "output_type": "execute_result"
    }
   ],
   "source": [
    "# So Combine Propability for first Red and Second Black Ball is\n",
    "RB = Probability_1stRed_Ball * Probability_Second_Black\n",
    "RB"
   ]
  },
  {
   "cell_type": "code",
   "execution_count": 9,
   "metadata": {},
   "outputs": [
    {
     "data": {
      "text/plain": [
       "0.6"
      ]
     },
     "execution_count": 9,
     "metadata": {},
     "output_type": "execute_result"
    }
   ],
   "source": [
    "# Probability for 1st Ball, if it is Black\n",
    "# Probability of Black Ball = 6/10\n",
    "Probability_1stBlack_Ball = Black / Total\n",
    "Probability_1stBlack_Ball"
   ]
  },
  {
   "cell_type": "code",
   "execution_count": 10,
   "metadata": {},
   "outputs": [
    {
     "data": {
      "text/plain": [
       "0.5555555555555556"
      ]
     },
     "execution_count": 10,
     "metadata": {},
     "output_type": "execute_result"
    }
   ],
   "source": [
    "#Probability of second black ball\n",
    "#1. First and Second Black Ball\n",
    "Probability_2ndBlack = (Black-1) /(Total-1)\n",
    "Probability_2ndBlack"
   ]
  },
  {
   "cell_type": "code",
   "execution_count": 11,
   "metadata": {},
   "outputs": [
    {
     "data": {
      "text/plain": [
       "0.3333333333333333"
      ]
     },
     "execution_count": 11,
     "metadata": {},
     "output_type": "execute_result"
    }
   ],
   "source": [
    "#Combine Probability for First Black and Second Black Ball\n",
    "BB = Combine_Probability_BlackBlack = (Probability_1stBlack_Ball) * (Probability_2ndBlack)\n",
    "BB"
   ]
  },
  {
   "cell_type": "code",
   "execution_count": 12,
   "metadata": {},
   "outputs": [
    {
     "data": {
      "text/plain": [
       "0.4444444444444444"
      ]
     },
     "execution_count": 12,
     "metadata": {},
     "output_type": "execute_result"
    }
   ],
   "source": [
    "#Probability of second Red Ball\n",
    "Probability_2ndRed_Ball = 4/9\n",
    "Probability_2ndRed_Ball"
   ]
  },
  {
   "cell_type": "code",
   "execution_count": 13,
   "metadata": {},
   "outputs": [
    {
     "data": {
      "text/plain": [
       "0.26666666666666666"
      ]
     },
     "execution_count": 13,
     "metadata": {},
     "output_type": "execute_result"
    }
   ],
   "source": [
    "#Combine Probability for forst Black and Second Red Ball\n",
    "BR = Combine_Probability_BlackRed = (Probability_1stBlack_Ball) * (Probability_2ndRed_Ball)\n",
    "BR"
   ]
  },
  {
   "cell_type": "code",
   "execution_count": 14,
   "metadata": {},
   "outputs": [
    {
     "name": "stdout",
     "output_type": "stream",
     "text": [
      "RR =\n",
      "0.13333333333333333\n",
      "RB =\n",
      "0.26666666666666666\n",
      "BB =\n",
      "0.3333333333333333\n",
      "BR =\n",
      "0.26666666666666666\n"
     ]
    },
    {
     "data": {
      "text/plain": [
       "(None, None, None, None, None, None, None, None)"
      ]
     },
     "execution_count": 14,
     "metadata": {},
     "output_type": "execute_result"
    }
   ],
   "source": [
    "# Combine Probability of all Possible Output\n",
    "print('RR ='), print(RR), print('RB ='), print(RB), print('BB ='), print(BB), print('BR ='), print(BR)"
   ]
  },
  {
   "cell_type": "code",
   "execution_count": null,
   "metadata": {},
   "outputs": [],
   "source": []
  }
 ],
 "metadata": {
  "kernelspec": {
   "display_name": "Python 3",
   "language": "python",
   "name": "python3"
  },
  "language_info": {
   "codemirror_mode": {
    "name": "ipython",
    "version": 3
   },
   "file_extension": ".py",
   "mimetype": "text/x-python",
   "name": "python",
   "nbconvert_exporter": "python",
   "pygments_lexer": "ipython3",
   "version": "3.6.6"
  }
 },
 "nbformat": 4,
 "nbformat_minor": 2
}
